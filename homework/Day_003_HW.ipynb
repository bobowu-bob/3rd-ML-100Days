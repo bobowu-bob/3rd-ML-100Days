{
 "cells": [
  {
   "cell_type": "markdown",
   "metadata": {},
   "source": [
    "## [作業目標]\n",
    "持續接觸有關機器學習的相關專案與最新技術"
   ]
  },
  {
   "cell_type": "markdown",
   "metadata": {},
   "source": [
    "## [作業重點]\n",
    "透過觀察頂尖公司的機器學習文章，來了解各公司是怎麼應用機器學習在實際的專案上"
   ]
  },
  {
   "cell_type": "markdown",
   "metadata": {},
   "source": [
    "## [作業]\n",
    "今天的作業希望大家能夠看看全球機器學習巨頭們在做的機器學習專案。以 google 為例，下圖是 Google 內部專案使用機器學習的數量，隨著時間進展，現在早已超過 2000 個專案在使用機器學習。"
   ]
  },
  {
   "cell_type": "markdown",
   "metadata": {},
   "source": [
    "![image](https://cdn-images-1.medium.com/max/800/1*U_L8qI8RmYS-MOBrYvXhSA.png)"
   ]
  },
  {
   "cell_type": "markdown",
   "metadata": {},
   "source": [
    "底下幫同學整理幾間知名企業的 blog 或機器學習網站 (自行搜尋也可)，這些網站都會整理最新的機器學習專案或者是技術文章，請挑選一篇文章閱讀並試著回答\n",
    "1. 專案的目標？ (要解決什麼問題）\n",
    "2. 使用的技術是？ (只需知道名稱即可，例如：使用 CNN 卷積神經網路做影像分類)\n",
    "3. 資料來源？ "
   ]
  },
  {
   "cell_type": "markdown",
   "metadata": {},
   "source": [
    "- [Google AI blog](https://ai.googleblog.com/)\n",
    "- [Facebook Research blog](https://research.fb.com/blog/)\n",
    "- [Apple machine learning journal](https://machinelearning.apple.com/)\n",
    "- [機器之心](https://www.jiqizhixin.com/)\n",
    "- [雷鋒網](http://www.leiphone.com/category/ai)"
   ]
  },
  {
   "cell_type": "code",
   "execution_count": null,
   "metadata": {},
   "outputs": [],
   "source": [
    "#選擇要討論的文章是在雷鋒網裡，挑選到的，裡面最主要是說在北大Deepcamp的AI營隊裡，取得冠軍的團隊。\n",
    "#這組團隊自行開發出一款鬥地主的AI，這個項目還包括了遊戲引擎、服務器、數據庫、音樂、遊戲介面、遊戲前端等等...\n",
    "#那為時三周內開發完成。在這項專案裡，要解決的問題有兩類，一個是算法，一個是遊戲開發，那在算法這邊，並不是簡單的\n",
    "#拿DL來做，而是想要做出一個完整的機器模型，像在使用supervised learning的時候，因為數據是來自於人類玩家的，所以機器\n",
    "#會大量做出不要這個動作，且這個算法最困難的部分，就是多人不完美信息下的博弈，那怎麼解決呢?在專案老師的建議下和從基本\n",
    "#的庫恩撲克的論文開始，讀了幾百頁論文，才將CFR算法的核心移植到它們的算法上。那這個模型使用了多模型的融合，像是supervised、\n",
    "#規則模型、Reinforcement、蒙特卡洛樹搜索模型、CFR 模型，最後通過離線學習的形式使它們各自都有一定的斗地主能力，再通過強化學習\n",
    "#來做多模型融合，最終選擇其中一種模型的決策結果。在資料上大量了參考國外論文和一些開源資料庫。"
   ]
  }
 ],
 "metadata": {
  "kernelspec": {
   "display_name": "Python 3",
   "language": "python",
   "name": "python3"
  },
  "language_info": {
   "codemirror_mode": {
    "name": "ipython",
    "version": 3
   },
   "file_extension": ".py",
   "mimetype": "text/x-python",
   "name": "python",
   "nbconvert_exporter": "python",
   "pygments_lexer": "ipython3",
   "version": "3.7.3"
  }
 },
 "nbformat": 4,
 "nbformat_minor": 2
}
