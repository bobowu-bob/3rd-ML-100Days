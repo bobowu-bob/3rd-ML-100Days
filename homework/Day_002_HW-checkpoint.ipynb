{
 "cells": [
  {
   "cell_type": "markdown",
   "metadata": {},
   "source": [
    "## [作業目標]\n",
    "了解機器學習適合應用的領域與範疇。"
   ]
  },
  {
   "cell_type": "markdown",
   "metadata": {},
   "source": [
    "## [作業重點]\n",
    "透過瞭解機器學習的運作方式，找出非常適用機器學習應用的領域及其原因"
   ]
  },
  {
   "cell_type": "markdown",
   "metadata": {},
   "source": [
    "## 作業\n",
    "請找出一個你認為機器學習可以發光發熱的領域並闡述原因? "
   ]
  },
  {
   "cell_type": "code",
   "execution_count": null,
   "metadata": {},
   "outputs": [],
   "source": [
    "   #在機器學習上，之前朋友有遇過一個很有趣的應用，在估價房產上使用機器學習，那因為估價要參考的資料大量且複雜，所以訓練後，使用迴歸去檢測像是\n",
    "   #MSE來檢測準確，雖然出來的結果沒有很好，但我想過，假如把ML訓練的目標縮小，像是把幾個重要的部分，拆開一部分給機器訓練，那些部分是比較有規律\n",
    "   #且較固定的資料部分，那估價師只要得到有規律的資料，在自己考慮比較需要人去判定的資料部分，這樣估價的準確率，就會大幅上升且時間成本也減少很多\n",
    "   #這樣也符合AI的本意，是幫助人類而不是完全取代人類。\n",
    "    "
   ]
  }
 ],
 "metadata": {
  "kernelspec": {
   "display_name": "Python 3",
   "language": "python",
   "name": "python3"
  },
  "language_info": {
   "codemirror_mode": {
    "name": "ipython",
    "version": 3
   },
   "file_extension": ".py",
   "mimetype": "text/x-python",
   "name": "python",
   "nbconvert_exporter": "python",
   "pygments_lexer": "ipython3",
   "version": "3.7.3"
  }
 },
 "nbformat": 4,
 "nbformat_minor": 2
}
